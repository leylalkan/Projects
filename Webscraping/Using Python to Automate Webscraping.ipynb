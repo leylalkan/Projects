{
 "cells": [
  {
   "cell_type": "code",
   "execution_count": null,
   "id": "699cf6f5",
   "metadata": {},
   "outputs": [],
   "source": [
    "# First, register for CoinMarketCap and obtain your API key by visiting https://coinmarketcap.com/api/.\n",
    "\n",
    "# Then, import necessary libraries\n",
    "import pandas as pd\n",
    "import os \n",
    "from time import time\n",
    "from time import sleep\n",
    "import csv\n",
    "import seaborn as sns\n",
    "import matplotlib.pyplot as plt\n",
    "\n",
    "# This sets the maximum number of columns and rows to display\n",
    "pd.set_option('display.max_columns', None)\n",
    "pd.set_option('display.max_rows', None)\n",
    "pd.set_option('display.float_format', lambda x: '%.5f' % x)"
   ]
  },
  {
   "cell_type": "code",
   "execution_count": null,
   "id": "a901c8e7",
   "metadata": {},
   "outputs": [],
   "source": [
    "# This code below  was obtained from the Python section of the Quick Start Guide in the CoinMarketCap API documentation.\n",
    "from requests import Request, Session\n",
    "from requests.exceptions import ConnectionError, Timeout, TooManyRedirects\n",
    "import json\n",
    "\n",
    "url = 'https://pro-api.coinmarketcap.com/v1/cryptocurrency/listings/latest' # changed \"sandbox-api.coinmarketcap.com\" to \"pro-api.coinmarketcap.com\", since it says \"All requests should target domain https://pro-api.coinmarketcap.com.\" in the authentication section\n",
    "parameters = {\n",
    "  'start':'1',\n",
    "  'limit':'5000',\n",
    "  'convert':'USD'\n",
    "}\n",
    "headers = {\n",
    "  'Accepts': 'application/json',\n",
    "  'X-CMC_PRO_API_KEY': '3bfc4e2b-e29e-4747-82c0-362cb29c3927', #'b54bcf4d-1bca-4e8e-9a24-22ff2c3d462c',\n",
    "}\n",
    "\n",
    "session = Session()\n",
    "session.headers.update(headers)\n",
    "\n",
    "try:\n",
    "  response = session.get(url, params=parameters)\n",
    "  data = json.loads(response.text)\n",
    "  print(data)\n",
    "except (ConnectionError, Timeout, TooManyRedirects) as e:\n",
    "  print(e)\n",
    "\n",
    "# If you receive an \"IOPub data rate exceeded\" error, try running the following command in the anaconda powershell:\n",
    "# jupyter notebook --NotebookApp.iopub_data_rate_limit=1.0e10"
   ]
  },
  {
   "cell_type": "code",
   "execution_count": null,
   "id": "31bdff98",
   "metadata": {},
   "outputs": [],
   "source": [
    "type(data)"
   ]
  },
  {
   "cell_type": "code",
   "execution_count": null,
   "id": "4cbf82ee",
   "metadata": {},
   "outputs": [],
   "source": [
    "# This normalizes the data and creates a DataFrame\n",
    "df = pd.json_normalize(data['data'])\n",
    "# Add a new column with the current timestamp\n",
    "df['timestamp'] = pd.Timestamp.now()\n",
    "df"
   ]
  },
  {
   "cell_type": "code",
   "execution_count": null,
   "id": "d792e388",
   "metadata": {},
   "outputs": [],
   "source": [
    "def api_runner():\n",
    "    global df\n",
    "    url = 'https://pro-api.coinmarketcap.com/v1/cryptocurrency/listings/latest' # changed \"sandbox-api.coinmarketcap.com\" to \"pro-api.coinmarketcap.com\", since it says \"All requests should target domain https://pro-api.coinmarketcap.com.\" in the authentication section\n",
    "    parameters = {\n",
    "      'start':'1',\n",
    "      'limit':'100',\n",
    "      'convert':'USD'\n",
    "    }\n",
    "    headers = {\n",
    "      'Accepts': 'application/json',\n",
    "      'X-CMC_PRO_API_KEY': '3bfc4e2b-e29e-4747-82c0-362cb29c3927', #'b54bcf4d-1bca-4e8e-9a24-22ff2c3d462c',\n",
    "    }\n",
    "\n",
    "    session = Session()\n",
    "    session.headers.update(headers)\n",
    "\n",
    "    try:\n",
    "      response = session.get(url, params=parameters)\n",
    "      data = json.loads(response.text)\n",
    "      #print(data)\n",
    "    except (ConnectionError, Timeout, TooManyRedirects) as e:\n",
    "      print(e)\n",
    "    \n",
    "    df = pd.json_normalize(data['data'])\n",
    "    df['timestamp'] = pd.Timestamp.now()\n",
    "    \n",
    "    # Write the data to the CSV file\n",
    "    with open('crypto_data.csv', mode='a', newline='') as file:\n",
    "        writer = csv.writer(file)\n",
    "        if file.tell() == 0: # If the file is empty, write the headers\n",
    "            writer.writerow(df.columns)\n",
    "        writer.writerows(df.values)\n",
    "    \n",
    "    # Read the data from the CSV file into a DataFrame\n",
    "    df = pd.read_csv('crypto_data.csv')"
   ]
  },
  {
   "cell_type": "code",
   "execution_count": null,
   "id": "9e272cea",
   "metadata": {},
   "outputs": [],
   "source": [
    "for i in range(333): # since you only have 333 runs per day for API key usage\n",
    "    api_runner()\n",
    "    print('API Runner completed')\n",
    "    sleep(30) #sleep for 30 seconds"
   ]
  },
  {
   "cell_type": "code",
   "execution_count": null,
   "id": "87e99966",
   "metadata": {},
   "outputs": [],
   "source": [
    "results = pd.read_csv('crypto_data.csv')\n",
    "results"
   ]
  },
  {
   "cell_type": "code",
   "execution_count": null,
   "id": "e4227c53",
   "metadata": {},
   "outputs": [],
   "source": [
    "# Group the data by coin name and calculate the mean of the percent change columns\n",
    "results2 = results.groupby('name', sort=False)[['quote.USD.percent_change_1h',\n",
    "                                                'quote.USD.percent_change_24h',\n",
    "                                                'quote.USD.percent_change_7d',\n",
    "                                                'quote.USD.percent_change_30d',\n",
    "                                                'quote.USD.percent_change_60d',\n",
    "                                                'quote.USD.percent_change_90d']].mean()\n",
    "results2"
   ]
  },
  {
   "cell_type": "code",
   "execution_count": null,
   "id": "f3e2d1db",
   "metadata": {},
   "outputs": [],
   "source": [
    "# Stack the columns of the grouped dataframe to create a new dataframe\n",
    "results3 = results2.stack()\n",
    "results3"
   ]
  },
  {
   "cell_type": "code",
   "execution_count": null,
   "id": "2ef8ee34",
   "metadata": {},
   "outputs": [],
   "source": [
    "type(results3)"
   ]
  },
  {
   "cell_type": "code",
   "execution_count": null,
   "id": "4b7b94bf",
   "metadata": {},
   "outputs": [],
   "source": [
    "# Convert the new dataframe to a dataframe with a single column named \"values\"\n",
    "results4 = results3.to_frame(name='values')\n",
    "results4"
   ]
  },
  {
   "cell_type": "code",
   "execution_count": null,
   "id": "b8125368",
   "metadata": {},
   "outputs": [],
   "source": [
    "results4.count()"
   ]
  },
  {
   "cell_type": "code",
   "execution_count": null,
   "id": "fc6ade71",
   "metadata": {},
   "outputs": [],
   "source": [
    "# Reset the index of the new dataframe \n",
    "results5 = results4.reset_index()\n",
    "results5"
   ]
  },
  {
   "cell_type": "code",
   "execution_count": null,
   "id": "7d13cd4d",
   "metadata": {},
   "outputs": [],
   "source": [
    "# Rename the column named \"level_1\" to \"percent_change\" in the new dataframe\n",
    "results6 = results5.rename(columns={'level_1': 'percent_change'})\n",
    "results6"
   ]
  },
  {
   "cell_type": "code",
   "execution_count": null,
   "id": "a72480a3",
   "metadata": {},
   "outputs": [],
   "source": [
    "# Replace the long percent change column names with shorter ones in the new dataframe\n",
    "results6['percent_change'] = results6['percent_change'].replace(['quote.USD.percent_change_1h',\n",
    "                                                                   'quote.USD.percent_change_24h',\n",
    "                                                                   'quote.USD.percent_change_7d',\n",
    "                                                                   'quote.USD.percent_change_30d',\n",
    "                                                                   'quote.USD.percent_change_60d',\n",
    "                                                                   'quote.USD.percent_change_90d'],\n",
    "                                                                  ['1h','24h', '7d', '30d', '60d', '90d'])\n",
    "results6"
   ]
  },
  {
   "cell_type": "code",
   "execution_count": null,
   "id": "c287a308",
   "metadata": {
    "scrolled": true
   },
   "outputs": [],
   "source": [
    "# Create a categorical plot showing the relationship between percent change and coin name\n",
    "sns.catplot(x='percent_change', y='values', hue='name', data=results6, kind='point')\n",
    "plt.show()"
   ]
  },
  {
   "cell_type": "code",
   "execution_count": null,
   "id": "2915d494",
   "metadata": {},
   "outputs": [],
   "source": [
    "# Create a new dataframe with the desired columns and filter for Bitcoin data only\n",
    "results7 = results[['name', 'quote.USD.price', 'timestamp']]\n",
    "results7 = results7.query(\"name == 'Bitcoin'\")\n",
    "results7"
   ]
  },
  {
   "cell_type": "code",
   "execution_count": null,
   "id": "ae8459af",
   "metadata": {
    "scrolled": true
   },
   "outputs": [],
   "source": [
    "# Create a line plot showing Bitcoin's price over time\n",
    "sns.set_theme(style=\"darkgrid\")\n",
    "ax = sns.lineplot(x='timestamp', y='quote.USD.price', data=results7)\n",
    "ax.tick_params(axis='x', rotation=90)\n",
    "plt.xticks(range(len(results7['timestamp'])), results7['timestamp'], fontsize=8)\n",
    "plt.show()"
   ]
  },
  {
   "cell_type": "code",
   "execution_count": null,
   "id": "db10f9de",
   "metadata": {},
   "outputs": [],
   "source": []
  }
 ],
 "metadata": {
  "kernelspec": {
   "display_name": "Python 3 (ipykernel)",
   "language": "python",
   "name": "python3"
  },
  "language_info": {
   "codemirror_mode": {
    "name": "ipython",
    "version": 3
   },
   "file_extension": ".py",
   "mimetype": "text/x-python",
   "name": "python",
   "nbconvert_exporter": "python",
   "pygments_lexer": "ipython3",
   "version": "3.9.13"
  }
 },
 "nbformat": 4,
 "nbformat_minor": 5
}
