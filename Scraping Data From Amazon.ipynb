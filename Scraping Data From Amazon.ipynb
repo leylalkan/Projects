{
 "cells": [
  {
   "cell_type": "code",
   "execution_count": 1,
   "id": "f236cbb9",
   "metadata": {},
   "outputs": [],
   "source": [
    "# Import required libraries\n",
    "import pandas as pd\n",
    "from datetime import date\n",
    "import time\n",
    "import smtplib\n",
    "import requests\n",
    "from bs4 import BeautifulSoup"
   ]
  },
  {
   "cell_type": "code",
   "execution_count": 2,
   "id": "9b531b61",
   "metadata": {},
   "outputs": [
    {
     "name": "stdout",
     "output_type": "stream",
     "text": [
      "Nice Story Now Show Me The Data: Funny Data Analyst Gift, Blank Lined Notebook for Data Analyst, Data Scientist Gift\n",
      "6.99\n"
     ]
    }
   ],
   "source": [
    "# Define URL and headers\n",
    "url = 'https://www.amazon.com/Nice-Story-Now-Show-Data/dp/B09XZMCJZR/ref=sr_1_4?crid=VEQSK2K3DQS6&keywords=funny+data&qid=1678664591&sprefix=funny+data%2Caps%2C166&sr=8-4'\n",
    "headers = {\n",
    "    \"User-Agent\": \"Mozilla/5.0 (Windows NT 10.0; Win64; x64) AppleWebKit/537.36 (KHTML, like Gecko) Chrome/111.0.0.0 Safari/537.36\",\n",
    "    \"Accept-Encoding\": \"gzip, deflate\",\n",
    "    \"Accept\": \"text/html,application/xhtml+xml,application/xml;q=0.9,*/*;q=0.8\",\n",
    "    \"DNT\": \"1\",\n",
    "    \"Connection\": \"close\",\n",
    "    \"Upgrade-Insecure-Requests\": \"1\"\n",
    "} # get user-agent information from: https://httpbin.org/get\n",
    "\n",
    "# Connect to the website and pull in data\n",
    "response = requests.get(url, headers=headers)\n",
    "soup = BeautifulSoup(response.content, \"html.parser\")\n",
    "title = soup.find(id='productTitle').get_text().strip()\n",
    "price = soup.find(id=\"price\").get_text().strip()[1:]\n",
    "\n",
    "print(title)\n",
    "print(price)"
   ]
  },
  {
   "cell_type": "code",
   "execution_count": 3,
   "id": "14d703ca",
   "metadata": {},
   "outputs": [
    {
     "name": "stdout",
     "output_type": "stream",
     "text": [
      "                                               Title  Price       Date\n",
      "0  Nice Story Now Show Me The Data: Funny Data An...   6.99 2023-03-13\n"
     ]
    }
   ],
   "source": [
    "import openpyxl\n",
    "\n",
    "# Create a new Excel workbook and select the active worksheet\n",
    "workbook = openpyxl.Workbook()\n",
    "worksheet = workbook.active\n",
    "\n",
    "# Define the headers and data to be written to the worksheet\n",
    "header = ['Title', 'Price', 'Date']\n",
    "data = [title, price, date.today()]\n",
    "\n",
    "# Write the headers and data to the worksheet\n",
    "worksheet.append(header)\n",
    "worksheet.append(data)\n",
    "\n",
    "# Save the workbook to an Excel file\n",
    "workbook.save('FunnyNotebookDataset.xlsx')\n",
    "\n",
    "# Read the Excel file into a pandas DataFrame\n",
    "df = pd.read_excel('FunnyNotebookDataset.xlsx')\n",
    "\n",
    "# Print the data\n",
    "print(df.head())"
   ]
  },
  {
   "cell_type": "code",
   "execution_count": 4,
   "id": "6b05c1eb",
   "metadata": {},
   "outputs": [],
   "source": [
    "# Append data to the Excel file\n",
    "workbook = openpyxl.load_workbook('FunnyNotebookDataset.xlsx')\n",
    "worksheet = workbook.active\n",
    "worksheet.append(data)\n",
    "workbook.save('FunnyNotebookDataset.xlsx')"
   ]
  },
  {
   "cell_type": "code",
   "execution_count": 5,
   "id": "8e95b9e0",
   "metadata": {},
   "outputs": [],
   "source": [
    "# Define function to scrape the price and title from the Amazon product page\n",
    "def check_price():\n",
    "    # Define URL and headers\n",
    "    url = 'https://www.amazon.com/Nice-Story-Now-Show-Data/dp/B09XZMCJZR/ref=sr_1_4?crid=VEQSK2K3DQS6&keywords=funny+data&qid=1678664591&sprefix=funny+data%2Caps%2C166&sr=8-4'\n",
    "    headers = {\n",
    "        \"User-Agent\": \"Mozilla/5.0 (Windows NT 10.0; Win64; x64) AppleWebKit/537.36 (KHTML, like Gecko) Chrome/111.0.0.0 Safari/537.36\",\n",
    "        \"Accept-Encoding\": \"gzip, deflate\",\n",
    "        \"Accept\": \"text/html,application/xhtml+xml,application/xml;q=0.9,*/*;q=0.8\",\n",
    "        \"DNT\": \"1\",\n",
    "        \"Connection\": \"close\",\n",
    "        \"Upgrade-Insecure-Requests\": \"1\"\n",
    "    }\n",
    "\n",
    "    # Connect to the website and pull in data\n",
    "    response = requests.get(url, headers=headers)\n",
    "    soup = BeautifulSoup(response.content, \"html.parser\")\n",
    "    title = soup.find(id='productTitle').get_text().strip()\n",
    "    price = float(soup.find(id=\"price\").get_text().strip()[1:])\n",
    "\n",
    "    # Load the existing workbook if it exists, otherwise create a new one\n",
    "    try:\n",
    "        workbook = openpyxl.load_workbook('FunnyNotebookDataset.xlsx')\n",
    "    except FileNotFoundError:\n",
    "        workbook = openpyxl.Workbook()\n",
    "        worksheet = workbook.active\n",
    "        worksheet.append(['Title', 'Price', 'Date'])  # include headers only once\n",
    "\n",
    "    # Select the active worksheet\n",
    "    worksheet = workbook.active\n",
    "\n",
    "    # Define the data to be written to the worksheet\n",
    "    data = [title, price, date.today()]\n",
    "\n",
    "    # Write the data to the worksheet\n",
    "    worksheet.append(data)\n",
    "\n",
    "    # Save the workbook to an Excel file\n",
    "    workbook.save('FunnyNotebookDataset.xlsx')\n",
    "    \n",
    "    # Check if the price is below $10 and send an email if it is\n",
    "    if price < 10:\n",
    "        send_mail(title, url)\n",
    "        \n",
    "# Define function to send an email\n",
    "def send_mail(title, url):\n",
    "    server = smtplib.SMTP_SSL('smtp.gmail.com', 465)\n",
    "    server.ehlo()\n",
    "    #server.starttls()\n",
    "    server.ehlo()\n",
    "    server.login('alknleyla@gmail.com','my_app_password') #an App Password is a 16-digit passcode that gives a less secure app or device permission to access your Google Account.\n",
    "    \n",
    "    subject = \"The notebook you want is below $10! Now is your chance to buy!\"\n",
    "    body = f\"Hey, this is the moment you have been waiting for. Now is your chance to pick up the notebook of your dreams ({title}). Don't mess it up! Link here: {url}\"\n",
    "\n",
    "    msg = f\"Subject: {subject}\\n\\n{body}\"\n",
    "\n",
    "    server.sendmail(\n",
    "        'alknleyla@gmail.com',\n",
    "        ['alknleyla@gmail.com'],\n",
    "        #['recipient1@example.com', 'recipient2@example.com'],\n",
    "        msg\n",
    "    )\n",
    "\n",
    "    server.quit()\n"
   ]
  },
  {
   "cell_type": "code",
   "execution_count": null,
   "id": "a3dd9e37",
   "metadata": {},
   "outputs": [],
   "source": [
    "# Run the check_price() function for 5 seconds for demonstration, then stop it manually\n",
    "for i in range(5):\n",
    "    check_price()\n",
    "    time.sleep(1)"
   ]
  },
  {
   "cell_type": "code",
   "execution_count": 7,
   "id": "00af7126",
   "metadata": {},
   "outputs": [
    {
     "name": "stdout",
     "output_type": "stream",
     "text": [
      "                                               Title  Price       Date\n",
      "0  Nice Story Now Show Me The Data: Funny Data An...   6.99 2023-03-13\n",
      "1  Nice Story Now Show Me The Data: Funny Data An...   6.99 2023-03-13\n",
      "2  Nice Story Now Show Me The Data: Funny Data An...   6.99 2023-03-13\n",
      "3  Nice Story Now Show Me The Data: Funny Data An...   6.99 2023-03-13\n",
      "4  Nice Story Now Show Me The Data: Funny Data An...   6.99 2023-03-13\n"
     ]
    }
   ],
   "source": [
    "# Read the results\n",
    "df = pd.read_excel('FunnyNotebookDataset.xlsx')\n",
    "print(df.head())"
   ]
  },
  {
   "cell_type": "code",
   "execution_count": null,
   "id": "10edd534",
   "metadata": {},
   "outputs": [],
   "source": [
    "# This runs the check_price() function every 24 hours\n",
    "while True:\n",
    "    check_price()\n",
    "    time.sleep(86400)"
   ]
  }
 ],
 "metadata": {
  "kernelspec": {
   "display_name": "Python 3 (ipykernel)",
   "language": "python",
   "name": "python3"
  },
  "language_info": {
   "codemirror_mode": {
    "name": "ipython",
    "version": 3
   },
   "file_extension": ".py",
   "mimetype": "text/x-python",
   "name": "python",
   "nbconvert_exporter": "python",
   "pygments_lexer": "ipython3",
   "version": "3.9.13"
  }
 },
 "nbformat": 4,
 "nbformat_minor": 5
}
