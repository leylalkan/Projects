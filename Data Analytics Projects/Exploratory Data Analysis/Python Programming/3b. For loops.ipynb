{
 "cells": [
  {
   "cell_type": "markdown",
   "metadata": {
    "id": "m14F-xriYRB8"
   },
   "source": [
    "<summary><h1>For loops</h1></summary>"
   ]
  },
  {
   "cell_type": "markdown",
   "metadata": {
    "id": "tsXwTAlCYWF2"
   },
   "source": [
    "## Introduction \n",
    "\n",
    "As a data professional, you may need to use methods that involve repetition. For example, when analyzing customer feedback from surveys, you may need to compare averages across categories. In Python, using iterative statements helps automate this task and makes them more efficient.\n",
    "\n",
    "In this activity, you will practice writing iterative statements using `for` loops. "
   ]
  },
  {
   "cell_type": "markdown",
   "metadata": {
    "id": "IDPbsOsHYtNa"
   },
   "source": [
    "## 1: Iterating with `if`, `elif`, and `else`\n",
    "\n",
    "In your work as an analyst, you have received customer feedback for a newly launched product. The feedback is a numerical grade on a scale of 1-10, with 10 being the best. Understanding the number of customers who responded negatively, neutrally, or positively will help determine how to improve the product.\n",
    "\n",
    "*  Define a function called `score_counter` that accepts the following argument:\n",
    "    * `score_list` - a list of customer-submitted scores, where each score is an integer, 1-10\n",
    "\n",
    "*  The function must iterate over the elements of `score_list` and bin the scores into three bins:\n",
    "\n",
    "| Negative | Neutral | Positive |\n",
    "| :-: | :-: | :-: |\n",
    "| 1-5 | 6-8 | 9-10 |\n",
    "\n",
    "*  The output of the function must be three statements, each on its own line:\n",
    "\n",
    "    1. `'Negative: {n_negative_scores}'`\n",
    "    2. `'Neutral: {n_neutral_scores}'`\n",
    "    3. `'Positive: {n_positive_scores}'`\n",
    "\n",
    "*Example:*\n",
    "\n",
    "```\n",
    " [IN] score_counter([1, 2, 3, 4, 5, 6, 7, 8, 9, 10])\n",
    "[OUT] 'Negative: 5'\n",
    "      'Neutral: 3'\n",
    "      'Positive: 2'\n",
    "```"
   ]
  },
  {
   "cell_type": "code",
   "execution_count": 1,
   "metadata": {
    "id": "kQHzgKnxO7Vv"
   },
   "outputs": [
    {
     "name": "stdout",
     "output_type": "stream",
     "text": [
      "Negative: 5\n",
      "Neutral: 3\n",
      "Positive: 2\n"
     ]
    }
   ],
   "source": [
    "def score_counter(score_list):\n",
    "    n_negative_scores = 0\n",
    "    n_neutral_scores = 0\n",
    "    n_positive_scores = 0\n",
    "    for i in score_list:\n",
    "        if i in range(1,6):\n",
    "            n_negative_scores += 1\n",
    "        elif i in range(6,9):\n",
    "            n_neutral_scores += 1\n",
    "        elif i in range(9,11):\n",
    "            n_positive_scores += 1\n",
    "    print('Negative:', n_negative_scores)\n",
    "    print('Neutral:', n_neutral_scores)\n",
    "    print('Positive:', n_positive_scores)\n",
    "    \n",
    "score_list_ex = [1, 2, 3, 4, 5, 6, 7, 8, 9, 10]\n",
    "score_counter(score_list_ex)"
   ]
  },
  {
   "cell_type": "markdown",
   "metadata": {
    "id": "W_8NrujfeQox"
   },
   "source": [
    "### Test your function\n",
    "Test your function against the following cases by running the cell below."
   ]
  },
  {
   "cell_type": "code",
   "execution_count": 2,
   "metadata": {
    "colab": {
     "base_uri": "https://localhost:8080/"
    },
    "executionInfo": {
     "elapsed": 8,
     "status": "ok",
     "timestamp": 1680062595536,
     "user": {
      "displayName": "Matteo Riotto",
      "userId": "15211004813978485634"
     },
     "user_tz": 420
    },
    "id": "25V5vfEGVFEF",
    "outputId": "49fcaa0e-19f8-4c45-d41d-5f0c4b8128b7"
   },
   "outputs": [
    {
     "name": "stdout",
     "output_type": "stream",
     "text": [
      "Test 1:\n",
      "Negative: 5\n",
      "Neutral: 1\n",
      "Positive: 4\n",
      "\n",
      "Test 2:\n",
      "Negative: 85\n",
      "Neutral: 253\n",
      "Positive: 112\n",
      "\n",
      "Test 3:\n",
      "Negative: 1935\n",
      "Neutral: 2652\n",
      "Positive: 5413\n"
     ]
    }
   ],
   "source": [
    "# RUN THIS CELL TO TEST YOUR FUNCTION\n",
    "\n",
    "import random\n",
    "random.seed(42)\n",
    "\n",
    "possible_scores = list(range(1,11))\n",
    "score_list1 = random.choices(possible_scores, weights=[8,8,8,8,8,3,3,4,20,30], k=10)\n",
    "score_list2 = random.choices(possible_scores, weights=[1,2,3,4,5,10,15,15,7,9], k=450)\n",
    "score_list3 = random.choices(possible_scores, weights=[1,2,3,4,4,5,5,10,15,25], k=10000)\n",
    "\n",
    "print('Test 1:')            # SHOULD OUTPUT (neg, neut, pos):\n",
    "score_counter(score_list1)  # 5, 1, 4\n",
    "print('\\nTest 2:')\n",
    "score_counter(score_list2)  # 85, 253, 112\n",
    "print('\\nTest 3:')\n",
    "score_counter(score_list3)  # 1935, 2652, 5413"
   ]
  },
  {
   "cell_type": "markdown",
   "metadata": {
    "id": "MtE4axqNWh42"
   },
   "source": [
    "## 2: Create a `for` loop using `if`, `not`, and `in`\n",
    "\n",
    "There is concern that some of the customer feedback scores are fake. One way to check the integrity of the feedback is to identify how many scores came from verified customers.\n",
    "\n",
    "In this task, you are provided with two lists: a list of verified customer IDs and a list of all IDs that left feedback scores. You must validate the data by cross-checking the lists against each other.\n",
    "\n",
    "<br/>\n",
    "\n",
    "* Define a function called `id_validator` that takes two lists as arguments:\n",
    "    *  `verified_ids` - a list containing IDs of verified customers\n",
    "    *  `feedback_ids` - a list containing unique IDs of all posters of feedback scores\n",
    "\n",
    "*  The output of the function must be two statements, each on its own line:\n",
    "    1. `'{num_unverified_ids} of {num_feedback_ids} unverified.'`\n",
    "    2. `'{percent} unverified.'`\n",
    "\n",
    "*Example:*\n",
    "\n",
    "```\n",
    " [IN]  id_validator(verified_ids=['1', '2'], feedback_ids=['1', '2', '3'])\n",
    "[OUT]  '1 of 3 IDs unverified.'\n",
    "       '33.33% unverified.'\n",
    "\n",
    " [IN]  id_validator(verified_ids=['1a', '2b', '3c'], feedback_ids=['1a', '4d'])\n",
    "[OUT]  '1 of 2 IDs unverified.'\n",
    "       '50.0% unverified.'\n",
    "```\n",
    "**Note that there is more than one way to solve this problem.**"
   ]
  },
  {
   "cell_type": "code",
   "execution_count": 3,
   "metadata": {},
   "outputs": [
    {
     "name": "stdout",
     "output_type": "stream",
     "text": [
      "1 of 3 IDs unverified.\n",
      "33.33% unverified.\n",
      "1 of 2 IDs unverified.\n",
      "50.0% unverified.\n"
     ]
    }
   ],
   "source": [
    "def id_validator(verified_ids, feedback_ids):\n",
    "    num_unverified_ids = sum(1 for i in feedback_ids if i not in verified_ids)\n",
    "    num_feedback_ids = len(feedback_ids)\n",
    "\n",
    "    print(f\"{num_unverified_ids} of {num_feedback_ids} IDs unverified.\")\n",
    "    print(f\"{round((num_unverified_ids / num_feedback_ids) * 100, 2)}% unverified.\")\n",
    "\n",
    "id_validator(verified_ids=['1', '2'], feedback_ids=['1', '2', '3'])\n",
    "id_validator(verified_ids=['1a', '2b', '3c'], feedback_ids=['1a', '4d'])"
   ]
  },
  {
   "cell_type": "markdown",
   "metadata": {
    "id": "JzWNOYsWoIXb"
   },
   "source": [
    "# 3: Create a nested loop\n",
    "\n",
    "You've been asked to calculate the total value of all purchases made by each customer to understand how many customers have spent $100+.\n",
    "\n",
    "*  Write a function called `purchases_100` that accepts the following argument:\n",
    "    * `sales` - a list of lists where each inner list contains the prices of items purchased by a unique customer.\n",
    "\n",
    "* The function must return the number of customers whose purchases summed to $100 or more.\n",
    "\n",
    "*Example:*\n",
    "\n",
    "```\n",
    "sales = [[2.75], [50.0, 50.0], [150.46, 200.12, 97.30]]\n",
    "\n",
    " [IN]  purchases_100(sales)\n",
    "[OUT]  2\n",
    "```\n",
    "\n",
    "**Note that there is more than one way to solve this problem.**"
   ]
  },
  {
   "cell_type": "code",
   "execution_count": 4,
   "metadata": {
    "id": "NROZmlPopESe"
   },
   "outputs": [
    {
     "name": "stdout",
     "output_type": "stream",
     "text": [
      "2\n"
     ]
    }
   ],
   "source": [
    "def purchases_100(sales):\n",
    "    num_customer = 0\n",
    "    for customer in sales:\n",
    "        total = 0\n",
    "        for amount in customer:\n",
    "            total += amount\n",
    "        if total >= 100:\n",
    "            num_customer += 1\n",
    "    print(num_customer)\n",
    "sales = [[2.75], [50.0, 50.0], [150.46, 200.12, 97.30]]\n",
    "purchases_100(sales)"
   ]
  },
  {
   "cell_type": "code",
   "execution_count": 5,
   "metadata": {},
   "outputs": [
    {
     "name": "stdout",
     "output_type": "stream",
     "text": [
      "3\n"
     ]
    }
   ],
   "source": [
    "sales = [[150.46, 200.12, 97.30], [50.0, 50.0], [2.75], [99.5, 22.25]]\n",
    "purchases_100(sales)"
   ]
  }
 ],
 "metadata": {
  "colab": {
   "provenance": []
  },
  "kernelspec": {
   "display_name": "Python 3 (ipykernel)",
   "language": "python",
   "name": "python3"
  },
  "language_info": {
   "codemirror_mode": {
    "name": "ipython",
    "version": 3
   },
   "file_extension": ".py",
   "mimetype": "text/x-python",
   "name": "python",
   "nbconvert_exporter": "python",
   "pygments_lexer": "ipython3",
   "version": "3.10.9"
  }
 },
 "nbformat": 4,
 "nbformat_minor": 1
}
