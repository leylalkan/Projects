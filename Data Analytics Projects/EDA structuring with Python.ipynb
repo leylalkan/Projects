{
 "cells": [
  {
   "cell_type": "markdown",
   "metadata": {
    "id": "Su8Yo0FbD6Fd"
   },
   "source": [
    "# Data Structuring"
   ]
  },
  {
   "cell_type": "markdown",
   "metadata": {},
   "source": [
    "## Objective \n",
    "\n",
    "We will be examining lightning strike data collected by the National Oceanic and Atmospheric Association (NOAA) for the year of 2018. \n",
    "\n",
    "First, we will find the locations with the greatest number of strikes within a single day.  \n",
    "Then, we will examine the locations that had the greatest number of days with at least one lightning strike.  \n",
    "Next, we will determine whether certain days of the week had more lightning strikes than others.  \n",
    "Finally, we will add data from 2016 and 2017 and, for each month, calculate the percentage of total lightning strikes for that year that occurred in that month. We will then plot this data on a bar graph."
   ]
  },
  {
   "cell_type": "code",
   "execution_count": 1,
   "metadata": {
    "executionInfo": {
     "elapsed": 516,
     "status": "ok",
     "timestamp": 1665680661918,
     "user": {
      "displayName": "Jim McCoy",
      "userId": "05540602321492626965"
     },
     "user_tz": 300
    },
    "id": "2406K3ewQavA"
   },
   "outputs": [],
   "source": [
    "# Import statements\n",
    "import pandas as pd\n",
    "import numpy as np\n",
    "import seaborn as sns\n",
    "import datetime\n",
    "from matplotlib import pyplot as plt"
   ]
  },
  {
   "cell_type": "code",
   "execution_count": 2,
   "metadata": {
    "colab": {
     "base_uri": "https://localhost:8080/",
     "height": 338
    },
    "executionInfo": {
     "elapsed": 202,
     "status": "error",
     "timestamp": 1665680665778,
     "user": {
      "displayName": "Jim McCoy",
      "userId": "05540602321492626965"
     },
     "user_tz": 300
    },
    "id": "Rk80B0j0M0ye",
    "outputId": "72c2c661-7e69-4dc8-dea8-5e98b18ce60f"
   },
   "outputs": [
    {
     "data": {
      "text/html": [
       "<div>\n",
       "<style scoped>\n",
       "    .dataframe tbody tr th:only-of-type {\n",
       "        vertical-align: middle;\n",
       "    }\n",
       "\n",
       "    .dataframe tbody tr th {\n",
       "        vertical-align: top;\n",
       "    }\n",
       "\n",
       "    .dataframe thead th {\n",
       "        text-align: right;\n",
       "    }\n",
       "</style>\n",
       "<table border=\"1\" class=\"dataframe\">\n",
       "  <thead>\n",
       "    <tr style=\"text-align: right;\">\n",
       "      <th></th>\n",
       "      <th>date</th>\n",
       "      <th>number_of_strikes</th>\n",
       "      <th>center_point_geom</th>\n",
       "    </tr>\n",
       "  </thead>\n",
       "  <tbody>\n",
       "    <tr>\n",
       "      <th>0</th>\n",
       "      <td>2018-01-03</td>\n",
       "      <td>194</td>\n",
       "      <td>POINT(-75 27)</td>\n",
       "    </tr>\n",
       "    <tr>\n",
       "      <th>1</th>\n",
       "      <td>2018-01-03</td>\n",
       "      <td>41</td>\n",
       "      <td>POINT(-78.4 29)</td>\n",
       "    </tr>\n",
       "    <tr>\n",
       "      <th>2</th>\n",
       "      <td>2018-01-03</td>\n",
       "      <td>33</td>\n",
       "      <td>POINT(-73.9 27)</td>\n",
       "    </tr>\n",
       "    <tr>\n",
       "      <th>3</th>\n",
       "      <td>2018-01-03</td>\n",
       "      <td>38</td>\n",
       "      <td>POINT(-73.8 27)</td>\n",
       "    </tr>\n",
       "    <tr>\n",
       "      <th>4</th>\n",
       "      <td>2018-01-03</td>\n",
       "      <td>92</td>\n",
       "      <td>POINT(-79 28)</td>\n",
       "    </tr>\n",
       "  </tbody>\n",
       "</table>\n",
       "</div>"
      ],
      "text/plain": [
       "         date  number_of_strikes center_point_geom\n",
       "0  2018-01-03                194     POINT(-75 27)\n",
       "1  2018-01-03                 41   POINT(-78.4 29)\n",
       "2  2018-01-03                 33   POINT(-73.9 27)\n",
       "3  2018-01-03                 38   POINT(-73.8 27)\n",
       "4  2018-01-03                 92     POINT(-79 28)"
      ]
     },
     "execution_count": 2,
     "metadata": {},
     "output_type": "execute_result"
    }
   ],
   "source": [
    "# Read in the 2016 data\n",
    "df = pd.read_csv('eda_structuring_with_python_dataset1.csv') \n",
    "df.head()"
   ]
  },
  {
   "cell_type": "markdown",
   "metadata": {
    "id": "JWw1_Mnjq1HI",
    "outputId": "a7917f94-c78b-4350-d464-1a703051d010"
   },
   "source": [
    "Just like the data you encountered previously, the dataset has three columns: `date`, `number_of_strikes` and `center_point_geom`. Start by converting the `date` column to datetime. "
   ]
  },
  {
   "cell_type": "code",
   "execution_count": 3,
   "metadata": {
    "colab": {
     "base_uri": "https://localhost:8080/",
     "height": 206
    },
    "id": "3v1-HdDqD6Fg",
    "outputId": "a7917f94-c78b-4350-d464-1a703051d010"
   },
   "outputs": [],
   "source": [
    "# Convert the `date` column to datetime\n",
    "df['date'] = pd.to_datetime(df['date']) "
   ]
  },
  {
   "cell_type": "markdown",
   "metadata": {
    "id": "TjmxuMEDD6Fh"
   },
   "source": [
    "Now, let's check the shape of the dataframe. "
   ]
  },
  {
   "cell_type": "code",
   "execution_count": 4,
   "metadata": {
    "id": "mSFH86kvK1a_"
   },
   "outputs": [
    {
     "data": {
      "text/plain": [
       "(3401012, 3)"
      ]
     },
     "execution_count": 4,
     "metadata": {},
     "output_type": "execute_result"
    }
   ],
   "source": [
    "df.shape"
   ]
  },
  {
   "cell_type": "markdown",
   "metadata": {},
   "source": [
    "Let's do a quick check for duplicates. If the shape of the data is different after running this code, we'll know there were duplicate rows."
   ]
  },
  {
   "cell_type": "code",
   "execution_count": 5,
   "metadata": {
    "colab": {
     "base_uri": "https://localhost:8080/"
    },
    "id": "BOCB5KD-M8ZE",
    "outputId": "1a8f49e5-ad57-44a8-876f-fa12fdfb0def"
   },
   "outputs": [
    {
     "data": {
      "text/plain": [
       "(3401012, 3)"
      ]
     },
     "execution_count": 5,
     "metadata": {},
     "output_type": "execute_result"
    }
   ],
   "source": [
    "df.drop_duplicates().shape"
   ]
  },
  {
   "cell_type": "markdown",
   "metadata": {
    "id": "73HBuSeCD6Fj",
    "outputId": "1a8f49e5-ad57-44a8-876f-fa12fdfb0def"
   },
   "source": [
    "The shape of the dataset after dropping duplicates is the same, so we can assume no duplicates. Hence, there is at most one row per date, per area, per number of strikes. "
   ]
  },
  {
   "cell_type": "markdown",
   "metadata": {},
   "source": [
    "### Locations with most strikes in a single day"
   ]
  },
  {
   "cell_type": "markdown",
   "metadata": {
    "id": "m0AMnC7QLcB9",
    "outputId": "d5cd8be8-c613-420c-96e1-7ddc8b68dcf8"
   },
   "source": [
    "To identify the locations with the most strikes in a single day, sort the `number_of_strikes` column in descending value, or most to least."
   ]
  },
  {
   "cell_type": "code",
   "execution_count": 6,
   "metadata": {
    "colab": {
     "base_uri": "https://localhost:8080/",
     "height": 363
    },
    "id": "wsITNVF9D6Fk",
    "outputId": "d5cd8be8-c613-420c-96e1-7ddc8b68dcf8"
   },
   "outputs": [
    {
     "data": {
      "text/html": [
       "<div>\n",
       "<style scoped>\n",
       "    .dataframe tbody tr th:only-of-type {\n",
       "        vertical-align: middle;\n",
       "    }\n",
       "\n",
       "    .dataframe tbody tr th {\n",
       "        vertical-align: top;\n",
       "    }\n",
       "\n",
       "    .dataframe thead th {\n",
       "        text-align: right;\n",
       "    }\n",
       "</style>\n",
       "<table border=\"1\" class=\"dataframe\">\n",
       "  <thead>\n",
       "    <tr style=\"text-align: right;\">\n",
       "      <th></th>\n",
       "      <th>date</th>\n",
       "      <th>number_of_strikes</th>\n",
       "      <th>center_point_geom</th>\n",
       "    </tr>\n",
       "  </thead>\n",
       "  <tbody>\n",
       "    <tr>\n",
       "      <th>302758</th>\n",
       "      <td>2018-08-20</td>\n",
       "      <td>2211</td>\n",
       "      <td>POINT(-92.5 35.5)</td>\n",
       "    </tr>\n",
       "    <tr>\n",
       "      <th>278383</th>\n",
       "      <td>2018-08-16</td>\n",
       "      <td>2142</td>\n",
       "      <td>POINT(-96.1 36.1)</td>\n",
       "    </tr>\n",
       "    <tr>\n",
       "      <th>280830</th>\n",
       "      <td>2018-08-17</td>\n",
       "      <td>2061</td>\n",
       "      <td>POINT(-90.2 36.1)</td>\n",
       "    </tr>\n",
       "    <tr>\n",
       "      <th>280453</th>\n",
       "      <td>2018-08-17</td>\n",
       "      <td>2031</td>\n",
       "      <td>POINT(-89.9 35.9)</td>\n",
       "    </tr>\n",
       "    <tr>\n",
       "      <th>278382</th>\n",
       "      <td>2018-08-16</td>\n",
       "      <td>1902</td>\n",
       "      <td>POINT(-96.2 36.1)</td>\n",
       "    </tr>\n",
       "    <tr>\n",
       "      <th>11517</th>\n",
       "      <td>2018-02-10</td>\n",
       "      <td>1899</td>\n",
       "      <td>POINT(-95.5 28.1)</td>\n",
       "    </tr>\n",
       "    <tr>\n",
       "      <th>277506</th>\n",
       "      <td>2018-08-16</td>\n",
       "      <td>1878</td>\n",
       "      <td>POINT(-89.7 31.5)</td>\n",
       "    </tr>\n",
       "    <tr>\n",
       "      <th>24906</th>\n",
       "      <td>2018-02-25</td>\n",
       "      <td>1833</td>\n",
       "      <td>POINT(-98.7 28.9)</td>\n",
       "    </tr>\n",
       "    <tr>\n",
       "      <th>284320</th>\n",
       "      <td>2018-08-17</td>\n",
       "      <td>1767</td>\n",
       "      <td>POINT(-90.1 36)</td>\n",
       "    </tr>\n",
       "    <tr>\n",
       "      <th>24825</th>\n",
       "      <td>2018-02-25</td>\n",
       "      <td>1741</td>\n",
       "      <td>POINT(-98 29)</td>\n",
       "    </tr>\n",
       "  </tbody>\n",
       "</table>\n",
       "</div>"
      ],
      "text/plain": [
       "             date  number_of_strikes  center_point_geom\n",
       "302758 2018-08-20               2211  POINT(-92.5 35.5)\n",
       "278383 2018-08-16               2142  POINT(-96.1 36.1)\n",
       "280830 2018-08-17               2061  POINT(-90.2 36.1)\n",
       "280453 2018-08-17               2031  POINT(-89.9 35.9)\n",
       "278382 2018-08-16               1902  POINT(-96.2 36.1)\n",
       "11517  2018-02-10               1899  POINT(-95.5 28.1)\n",
       "277506 2018-08-16               1878  POINT(-89.7 31.5)\n",
       "24906  2018-02-25               1833  POINT(-98.7 28.9)\n",
       "284320 2018-08-17               1767    POINT(-90.1 36)\n",
       "24825  2018-02-25               1741      POINT(-98 29)"
      ]
     },
     "execution_count": 6,
     "metadata": {},
     "output_type": "execute_result"
    }
   ],
   "source": [
    "# Sort by number of strikes in descending order\n",
    "df.sort_values(by='number_of_strikes', ascending=False).head(10)"
   ]
  },
  {
   "cell_type": "markdown",
   "metadata": {},
   "source": [
    "### Locations with most days with at least one lightning strike\n"
   ]
  },
  {
   "cell_type": "markdown",
   "metadata": {},
   "source": [
    "Let's look at the number of strikes based on the geographic coordinates: latitude and longtitude."
   ]
  },
  {
   "cell_type": "markdown",
   "metadata": {
    "id": "H0GIPTT_D6Fk"
   },
   "source": [
    "To find the number of days that a given geographic location had at least one lightning strike, we'll use the `value_counts()` function on the `center_point_geom` column. The logic is that if each row represents a location-day, then counting the number of times each location occurs in the data will give us the number of days that location had lightning. "
   ]
  },
  {
   "cell_type": "code",
   "execution_count": 7,
   "metadata": {
    "colab": {
     "base_uri": "https://localhost:8080/"
    },
    "id": "rGldHFeoL-H3",
    "outputId": "a72ec9d6-e140-4df5-d0a5-54b1116cd6dc"
   },
   "outputs": [
    {
     "data": {
      "text/plain": [
       "POINT(-81.5 22.5)     108\n",
       "POINT(-84.1 22.4)     108\n",
       "POINT(-82.5 22.9)     107\n",
       "POINT(-82.7 22.9)     107\n",
       "POINT(-82.5 22.8)     106\n",
       "                     ... \n",
       "POINT(-119.3 35.1)      1\n",
       "POINT(-119.3 35)        1\n",
       "POINT(-119.6 35.6)      1\n",
       "POINT(-119.4 35.6)      1\n",
       "POINT(-58.5 45.3)       1\n",
       "Name: center_point_geom, Length: 170855, dtype: int64"
      ]
     },
     "execution_count": 7,
     "metadata": {},
     "output_type": "execute_result"
    }
   ],
   "source": [
    "# Identify locations that appear most in the dataset\n",
    "df.center_point_geom.value_counts()"
   ]
  },
  {
   "cell_type": "markdown",
   "metadata": {},
   "source": [
    "Based on our result, we learnt that the locations with the most strikes have lightning, on average, every one in three days, with numbers in the low 100s. Meanwhile, some locations reporting only one lightning strike for the entire year of 2018."
   ]
  },
  {
   "cell_type": "markdown",
   "metadata": {
    "id": "HFpTZzqK85Kw",
    "outputId": "e69e6c7f-e5ef-4577-82d9-9a37c729670f"
   },
   "source": [
    "We find that the locations with the most days with lightning strikes had at least one strike on 108 days—nearly one out of every three days of the year. They are all rather close to each other geographically, which makes sense. Notice also that the `value_counts()` function automatically sorts the results in descending order. \n",
    "\n",
    "Let's examine whether there is an even distribution of values, or whether 106+ strikes are unusually high value for days with lightning strikes. We'll use the `value_counts()` function again, but this time we'll output the top 20 results. We'll also rename the columns and apply a color gradient."
   ]
  },
  {
   "cell_type": "code",
   "execution_count": 8,
   "metadata": {
    "colab": {
     "base_uri": "https://localhost:8080/",
     "height": 677
    },
    "id": "VDRgCWyVD6Fl",
    "outputId": "e69e6c7f-e5ef-4577-82d9-9a37c729670f"
   },
   "outputs": [
    {
     "data": {
      "text/html": [
       "<style type=\"text/css\">\n",
       "#T_2d5b8_row0_col1, #T_2d5b8_row1_col1 {\n",
       "  background-color: #023858;\n",
       "  color: #f1f1f1;\n",
       "}\n",
       "#T_2d5b8_row2_col1, #T_2d5b8_row3_col1 {\n",
       "  background-color: #045d92;\n",
       "  color: #f1f1f1;\n",
       "}\n",
       "#T_2d5b8_row4_col1, #T_2d5b8_row5_col1 {\n",
       "  background-color: #1379b5;\n",
       "  color: #f1f1f1;\n",
       "}\n",
       "#T_2d5b8_row6_col1, #T_2d5b8_row7_col1 {\n",
       "  background-color: #509ac6;\n",
       "  color: #f1f1f1;\n",
       "}\n",
       "#T_2d5b8_row8_col1, #T_2d5b8_row9_col1 {\n",
       "  background-color: #91b5d6;\n",
       "  color: #000000;\n",
       "}\n",
       "#T_2d5b8_row10_col1 {\n",
       "  background-color: #c4cbe3;\n",
       "  color: #000000;\n",
       "}\n",
       "#T_2d5b8_row11_col1, #T_2d5b8_row12_col1, #T_2d5b8_row13_col1, #T_2d5b8_row14_col1, #T_2d5b8_row15_col1 {\n",
       "  background-color: #e8e4f0;\n",
       "  color: #000000;\n",
       "}\n",
       "#T_2d5b8_row16_col1, #T_2d5b8_row17_col1, #T_2d5b8_row18_col1, #T_2d5b8_row19_col1 {\n",
       "  background-color: #fff7fb;\n",
       "  color: #000000;\n",
       "}\n",
       "</style>\n",
       "<table id=\"T_2d5b8\">\n",
       "  <thead>\n",
       "    <tr>\n",
       "      <th class=\"blank level0\" >&nbsp;</th>\n",
       "      <th id=\"T_2d5b8_level0_col0\" class=\"col_heading level0 col0\" >unique_values</th>\n",
       "      <th id=\"T_2d5b8_level0_col1\" class=\"col_heading level0 col1\" >counts</th>\n",
       "    </tr>\n",
       "  </thead>\n",
       "  <tbody>\n",
       "    <tr>\n",
       "      <th id=\"T_2d5b8_level0_row0\" class=\"row_heading level0 row0\" >0</th>\n",
       "      <td id=\"T_2d5b8_row0_col0\" class=\"data row0 col0\" >POINT(-81.5 22.5)</td>\n",
       "      <td id=\"T_2d5b8_row0_col1\" class=\"data row0 col1\" >108</td>\n",
       "    </tr>\n",
       "    <tr>\n",
       "      <th id=\"T_2d5b8_level0_row1\" class=\"row_heading level0 row1\" >1</th>\n",
       "      <td id=\"T_2d5b8_row1_col0\" class=\"data row1 col0\" >POINT(-84.1 22.4)</td>\n",
       "      <td id=\"T_2d5b8_row1_col1\" class=\"data row1 col1\" >108</td>\n",
       "    </tr>\n",
       "    <tr>\n",
       "      <th id=\"T_2d5b8_level0_row2\" class=\"row_heading level0 row2\" >2</th>\n",
       "      <td id=\"T_2d5b8_row2_col0\" class=\"data row2 col0\" >POINT(-82.5 22.9)</td>\n",
       "      <td id=\"T_2d5b8_row2_col1\" class=\"data row2 col1\" >107</td>\n",
       "    </tr>\n",
       "    <tr>\n",
       "      <th id=\"T_2d5b8_level0_row3\" class=\"row_heading level0 row3\" >3</th>\n",
       "      <td id=\"T_2d5b8_row3_col0\" class=\"data row3 col0\" >POINT(-82.7 22.9)</td>\n",
       "      <td id=\"T_2d5b8_row3_col1\" class=\"data row3 col1\" >107</td>\n",
       "    </tr>\n",
       "    <tr>\n",
       "      <th id=\"T_2d5b8_level0_row4\" class=\"row_heading level0 row4\" >4</th>\n",
       "      <td id=\"T_2d5b8_row4_col0\" class=\"data row4 col0\" >POINT(-82.5 22.8)</td>\n",
       "      <td id=\"T_2d5b8_row4_col1\" class=\"data row4 col1\" >106</td>\n",
       "    </tr>\n",
       "    <tr>\n",
       "      <th id=\"T_2d5b8_level0_row5\" class=\"row_heading level0 row5\" >5</th>\n",
       "      <td id=\"T_2d5b8_row5_col0\" class=\"data row5 col0\" >POINT(-84.2 22.3)</td>\n",
       "      <td id=\"T_2d5b8_row5_col1\" class=\"data row5 col1\" >106</td>\n",
       "    </tr>\n",
       "    <tr>\n",
       "      <th id=\"T_2d5b8_level0_row6\" class=\"row_heading level0 row6\" >6</th>\n",
       "      <td id=\"T_2d5b8_row6_col0\" class=\"data row6 col0\" >POINT(-76 20.5)</td>\n",
       "      <td id=\"T_2d5b8_row6_col1\" class=\"data row6 col1\" >105</td>\n",
       "    </tr>\n",
       "    <tr>\n",
       "      <th id=\"T_2d5b8_level0_row7\" class=\"row_heading level0 row7\" >7</th>\n",
       "      <td id=\"T_2d5b8_row7_col0\" class=\"data row7 col0\" >POINT(-75.9 20.4)</td>\n",
       "      <td id=\"T_2d5b8_row7_col1\" class=\"data row7 col1\" >105</td>\n",
       "    </tr>\n",
       "    <tr>\n",
       "      <th id=\"T_2d5b8_level0_row8\" class=\"row_heading level0 row8\" >8</th>\n",
       "      <td id=\"T_2d5b8_row8_col0\" class=\"data row8 col0\" >POINT(-82.2 22.9)</td>\n",
       "      <td id=\"T_2d5b8_row8_col1\" class=\"data row8 col1\" >104</td>\n",
       "    </tr>\n",
       "    <tr>\n",
       "      <th id=\"T_2d5b8_level0_row9\" class=\"row_heading level0 row9\" >9</th>\n",
       "      <td id=\"T_2d5b8_row9_col0\" class=\"data row9 col0\" >POINT(-78 18.2)</td>\n",
       "      <td id=\"T_2d5b8_row9_col1\" class=\"data row9 col1\" >104</td>\n",
       "    </tr>\n",
       "    <tr>\n",
       "      <th id=\"T_2d5b8_level0_row10\" class=\"row_heading level0 row10\" >10</th>\n",
       "      <td id=\"T_2d5b8_row10_col0\" class=\"data row10 col0\" >POINT(-83.9 22.5)</td>\n",
       "      <td id=\"T_2d5b8_row10_col1\" class=\"data row10 col1\" >103</td>\n",
       "    </tr>\n",
       "    <tr>\n",
       "      <th id=\"T_2d5b8_level0_row11\" class=\"row_heading level0 row11\" >11</th>\n",
       "      <td id=\"T_2d5b8_row11_col0\" class=\"data row11 col0\" >POINT(-84 22.4)</td>\n",
       "      <td id=\"T_2d5b8_row11_col1\" class=\"data row11 col1\" >102</td>\n",
       "    </tr>\n",
       "    <tr>\n",
       "      <th id=\"T_2d5b8_level0_row12\" class=\"row_heading level0 row12\" >12</th>\n",
       "      <td id=\"T_2d5b8_row12_col0\" class=\"data row12 col0\" >POINT(-82 22.8)</td>\n",
       "      <td id=\"T_2d5b8_row12_col1\" class=\"data row12 col1\" >102</td>\n",
       "    </tr>\n",
       "    <tr>\n",
       "      <th id=\"T_2d5b8_level0_row13\" class=\"row_heading level0 row13\" >13</th>\n",
       "      <td id=\"T_2d5b8_row13_col0\" class=\"data row13 col0\" >POINT(-82 22.4)</td>\n",
       "      <td id=\"T_2d5b8_row13_col1\" class=\"data row13 col1\" >102</td>\n",
       "    </tr>\n",
       "    <tr>\n",
       "      <th id=\"T_2d5b8_level0_row14\" class=\"row_heading level0 row14\" >14</th>\n",
       "      <td id=\"T_2d5b8_row14_col0\" class=\"data row14 col0\" >POINT(-82.3 22.9)</td>\n",
       "      <td id=\"T_2d5b8_row14_col1\" class=\"data row14 col1\" >102</td>\n",
       "    </tr>\n",
       "    <tr>\n",
       "      <th id=\"T_2d5b8_level0_row15\" class=\"row_heading level0 row15\" >15</th>\n",
       "      <td id=\"T_2d5b8_row15_col0\" class=\"data row15 col0\" >POINT(-78 18.3)</td>\n",
       "      <td id=\"T_2d5b8_row15_col1\" class=\"data row15 col1\" >102</td>\n",
       "    </tr>\n",
       "    <tr>\n",
       "      <th id=\"T_2d5b8_level0_row16\" class=\"row_heading level0 row16\" >16</th>\n",
       "      <td id=\"T_2d5b8_row16_col0\" class=\"data row16 col0\" >POINT(-84.1 22.5)</td>\n",
       "      <td id=\"T_2d5b8_row16_col1\" class=\"data row16 col1\" >101</td>\n",
       "    </tr>\n",
       "    <tr>\n",
       "      <th id=\"T_2d5b8_level0_row17\" class=\"row_heading level0 row17\" >17</th>\n",
       "      <td id=\"T_2d5b8_row17_col0\" class=\"data row17 col0\" >POINT(-75.5 20.6)</td>\n",
       "      <td id=\"T_2d5b8_row17_col1\" class=\"data row17 col1\" >101</td>\n",
       "    </tr>\n",
       "    <tr>\n",
       "      <th id=\"T_2d5b8_level0_row18\" class=\"row_heading level0 row18\" >18</th>\n",
       "      <td id=\"T_2d5b8_row18_col0\" class=\"data row18 col0\" >POINT(-84.2 22.4)</td>\n",
       "      <td id=\"T_2d5b8_row18_col1\" class=\"data row18 col1\" >101</td>\n",
       "    </tr>\n",
       "    <tr>\n",
       "      <th id=\"T_2d5b8_level0_row19\" class=\"row_heading level0 row19\" >19</th>\n",
       "      <td id=\"T_2d5b8_row19_col0\" class=\"data row19 col0\" >POINT(-76 20.4)</td>\n",
       "      <td id=\"T_2d5b8_row19_col1\" class=\"data row19 col1\" >101</td>\n",
       "    </tr>\n",
       "  </tbody>\n",
       "</table>\n"
      ],
      "text/plain": [
       "<pandas.io.formats.style.Styler at 0x1053b58a0>"
      ]
     },
     "execution_count": 8,
     "metadata": {},
     "output_type": "execute_result"
    }
   ],
   "source": [
    "# Identify top 20 locations with most days of lightning\n",
    "df.center_point_geom.value_counts()[:20].rename_axis('unique_values').reset_index(name='counts').style.background_gradient()"
   ]
  },
  {
   "cell_type": "markdown",
   "metadata": {},
   "source": [
    "We discover zero notable drops in lightning strike counts among the top 20 location. This suggests that there are zero notably high lightning strike data points and that the data values are evenly distributed."
   ]
  },
  {
   "cell_type": "markdown",
   "metadata": {
    "id": "eXc-04IpVoHg"
   },
   "source": [
    "###  Lightning strikes by day of week"
   ]
  },
  {
   "cell_type": "markdown",
   "metadata": {},
   "source": [
    "You'll often find stories hidden among different groups in your data, like the most profitable times a day for retail store for instance."
   ]
  },
  {
   "cell_type": "markdown",
   "metadata": {
    "id": "nLUV2dPcD6Fm"
   },
   "source": [
    "One useful grouping is categorizing lightning strikes by day of the week, which will tell us whether any particular day of the week had fewer or more lightning strikes than others. To calculate this, we'll take advantage of the fact that the data in our `date` column is of the `datetime` class. Because these entries are datetime objects, we can extract date-related information from them and create new columns.\n",
    "\n",
    "First, we'll create a column called `week` using `dt.isocalendar()` on the `date` column. This function is designed to be used on a pandas series, and it will return a new dataframe with year, week, and day columns. The information is formatted numerically, so, for example, 3 January 1950 would be respresented as:\n",
    "\n",
    "| Year | Week | Day |\n",
    "| ---- | :--: | :-: |\n",
    "| 1950 | 1    | 3   |\n",
    "\n",
    "Because we only want to extract the week number, we'll add `.week` to the end. You can learn more about `dt.isocalendar()` in the [dt.isocalendar() pandas documentation](https://pandas.pydata.org/pandas-docs/dev/reference/api/pandas.Series.dt.isocalendar.html).\n",
    "\n",
    "We'll also add a `weekday` column using `dt.day_name()`. This is another pandas function designed to be used on a pandas series. It extracts the text name of the day for any given datetime date. You can learn more about this function in the [dt.day_name() pandas documentation](https://pandas.pydata.org/pandas-docs/dev/reference/api/pandas.Series.dt.day_name.html).\n"
   ]
  },
  {
   "cell_type": "code",
   "execution_count": 9,
   "metadata": {
    "colab": {
     "base_uri": "https://localhost:8080/",
     "height": 206
    },
    "id": "s__i6QEYLEWM",
    "outputId": "51d7bf6e-bfc4-4c76-ad40-7e3866c3c30e"
   },
   "outputs": [
    {
     "data": {
      "text/html": [
       "<div>\n",
       "<style scoped>\n",
       "    .dataframe tbody tr th:only-of-type {\n",
       "        vertical-align: middle;\n",
       "    }\n",
       "\n",
       "    .dataframe tbody tr th {\n",
       "        vertical-align: top;\n",
       "    }\n",
       "\n",
       "    .dataframe thead th {\n",
       "        text-align: right;\n",
       "    }\n",
       "</style>\n",
       "<table border=\"1\" class=\"dataframe\">\n",
       "  <thead>\n",
       "    <tr style=\"text-align: right;\">\n",
       "      <th></th>\n",
       "      <th>date</th>\n",
       "      <th>number_of_strikes</th>\n",
       "      <th>center_point_geom</th>\n",
       "      <th>week</th>\n",
       "      <th>weekday</th>\n",
       "    </tr>\n",
       "  </thead>\n",
       "  <tbody>\n",
       "    <tr>\n",
       "      <th>0</th>\n",
       "      <td>2018-01-03</td>\n",
       "      <td>194</td>\n",
       "      <td>POINT(-75 27)</td>\n",
       "      <td>1</td>\n",
       "      <td>Wednesday</td>\n",
       "    </tr>\n",
       "    <tr>\n",
       "      <th>1</th>\n",
       "      <td>2018-01-03</td>\n",
       "      <td>41</td>\n",
       "      <td>POINT(-78.4 29)</td>\n",
       "      <td>1</td>\n",
       "      <td>Wednesday</td>\n",
       "    </tr>\n",
       "    <tr>\n",
       "      <th>2</th>\n",
       "      <td>2018-01-03</td>\n",
       "      <td>33</td>\n",
       "      <td>POINT(-73.9 27)</td>\n",
       "      <td>1</td>\n",
       "      <td>Wednesday</td>\n",
       "    </tr>\n",
       "    <tr>\n",
       "      <th>3</th>\n",
       "      <td>2018-01-03</td>\n",
       "      <td>38</td>\n",
       "      <td>POINT(-73.8 27)</td>\n",
       "      <td>1</td>\n",
       "      <td>Wednesday</td>\n",
       "    </tr>\n",
       "    <tr>\n",
       "      <th>4</th>\n",
       "      <td>2018-01-03</td>\n",
       "      <td>92</td>\n",
       "      <td>POINT(-79 28)</td>\n",
       "      <td>1</td>\n",
       "      <td>Wednesday</td>\n",
       "    </tr>\n",
       "  </tbody>\n",
       "</table>\n",
       "</div>"
      ],
      "text/plain": [
       "        date  number_of_strikes center_point_geom  week    weekday\n",
       "0 2018-01-03                194     POINT(-75 27)     1  Wednesday\n",
       "1 2018-01-03                 41   POINT(-78.4 29)     1  Wednesday\n",
       "2 2018-01-03                 33   POINT(-73.9 27)     1  Wednesday\n",
       "3 2018-01-03                 38   POINT(-73.8 27)     1  Wednesday\n",
       "4 2018-01-03                 92     POINT(-79 28)     1  Wednesday"
      ]
     },
     "execution_count": 9,
     "metadata": {},
     "output_type": "execute_result"
    }
   ],
   "source": [
    "# Create two new columns\n",
    "df['week'] = df.date.dt.isocalendar().week\n",
    "df['weekday'] = df.date.dt.day_name()\n",
    "df.head()"
   ]
  },
  {
   "cell_type": "markdown",
   "metadata": {
    "id": "GS_THgVdD6Fn"
   },
   "source": [
    "Now, we can calculate the mean number of lightning strikes for each weekday of the year. We'll use the `groupby()` function to do this."
   ]
  },
  {
   "cell_type": "code",
   "execution_count": 10,
   "metadata": {
    "colab": {
     "base_uri": "https://localhost:8080/",
     "height": 300
    },
    "id": "PVK7sEUkP9NX",
    "outputId": "ebe445ff-0e71-43e5-caac-779ac0348a4e",
    "scrolled": true
   },
   "outputs": [
    {
     "data": {
      "text/html": [
       "<div>\n",
       "<style scoped>\n",
       "    .dataframe tbody tr th:only-of-type {\n",
       "        vertical-align: middle;\n",
       "    }\n",
       "\n",
       "    .dataframe tbody tr th {\n",
       "        vertical-align: top;\n",
       "    }\n",
       "\n",
       "    .dataframe thead th {\n",
       "        text-align: right;\n",
       "    }\n",
       "</style>\n",
       "<table border=\"1\" class=\"dataframe\">\n",
       "  <thead>\n",
       "    <tr style=\"text-align: right;\">\n",
       "      <th></th>\n",
       "      <th>number_of_strikes</th>\n",
       "    </tr>\n",
       "    <tr>\n",
       "      <th>weekday</th>\n",
       "      <th></th>\n",
       "    </tr>\n",
       "  </thead>\n",
       "  <tbody>\n",
       "    <tr>\n",
       "      <th>Friday</th>\n",
       "      <td>13.349972</td>\n",
       "    </tr>\n",
       "    <tr>\n",
       "      <th>Monday</th>\n",
       "      <td>13.152804</td>\n",
       "    </tr>\n",
       "    <tr>\n",
       "      <th>Saturday</th>\n",
       "      <td>12.732694</td>\n",
       "    </tr>\n",
       "    <tr>\n",
       "      <th>Sunday</th>\n",
       "      <td>12.324717</td>\n",
       "    </tr>\n",
       "    <tr>\n",
       "      <th>Thursday</th>\n",
       "      <td>13.240594</td>\n",
       "    </tr>\n",
       "    <tr>\n",
       "      <th>Tuesday</th>\n",
       "      <td>13.813599</td>\n",
       "    </tr>\n",
       "    <tr>\n",
       "      <th>Wednesday</th>\n",
       "      <td>13.224568</td>\n",
       "    </tr>\n",
       "  </tbody>\n",
       "</table>\n",
       "</div>"
      ],
      "text/plain": [
       "           number_of_strikes\n",
       "weekday                     \n",
       "Friday             13.349972\n",
       "Monday             13.152804\n",
       "Saturday           12.732694\n",
       "Sunday             12.324717\n",
       "Thursday           13.240594\n",
       "Tuesday            13.813599\n",
       "Wednesday          13.224568"
      ]
     },
     "execution_count": 10,
     "metadata": {},
     "output_type": "execute_result"
    }
   ],
   "source": [
    "# Calculate mean count of lightning strikes for each weekday\n",
    "df[['weekday','number_of_strikes']].groupby(['weekday']).mean()"
   ]
  },
  {
   "cell_type": "markdown",
   "metadata": {},
   "source": [
    "Interesting! It seems that Saturday and Sunday has fewer average lightning strikes than the other five weekdays. Let's plot the distributions of the strike counts for each day of the week. We want each distribution to be represented as a boxplot. \n",
    "\n",
    "Let's begin by defining the order of the days. We'll begin with Monday and end with Sunday. This is how the days will be ordered in the plot we create."
   ]
  },
  {
   "cell_type": "code",
   "execution_count": 12,
   "metadata": {},
   "outputs": [],
   "source": [
    "# Define order of days for the plot\n",
    "weekday_order = ['Monday','Tuesday', 'Wednesday', 'Thursday','Friday','Saturday','Sunday']"
   ]
  },
  {
   "cell_type": "markdown",
   "metadata": {
    "id": "9OwS_y0rD6Fo"
   },
   "source": [
    "Now, we'll code the plot. Remember that `showfliers` is the parameter that controls whether or not outliers are displayed in the plot. If you input `True`, outliers are included; if you input `False`, outliers are left off of the box plot. Keep in mind, we aren’t *deleting* any outliers from the dataset when we create this chart, we are only excluding them from the visualization.\n"
   ]
  },
  {
   "cell_type": "code",
   "execution_count": 15,
   "metadata": {
    "colab": {
     "base_uri": "https://localhost:8080/",
     "height": 295
    },
    "id": "ysCyf-TgRJay",
    "outputId": "8d9a612c-7862-4d3a-dfab-73c084fd72de"
   },
   "outputs": [
    {
     "data": {
      "image/png": "[encoded data removed]",
      "text/plain": [
       "<Figure size 640x480 with 1 Axes>"
      ]
     },
     "metadata": {},
     "output_type": "display_data"
    }
   ],
   "source": [
    "# Create boxplots of strike counts for each day of week\n",
    "g = sns.boxplot(data=df, \n",
    "            x='weekday',\n",
    "            y='number_of_strikes', \n",
    "            order=weekday_order, \n",
    "            showfliers=False \n",
    "            );\n",
    "g.set_title('Lightning distribution per weekday (2018)');"
   ]
  },
  {
   "cell_type": "markdown",
   "metadata": {
    "id": "E-m8ulpkD6Fp"
   },
   "source": [
    "Notice that the median remains the same on all of the days of the week. As for Saturday and Sunday, however, the distributions are *both* lower than the rest of the week. We also know that the mean numbers of strikes that occurred on Saturday and Sunday were lower than the other weekdays. Why might this be? Perhaps the aerosol particles emitted by factories and vehicles increase the likelihood of lightning strike. In the U.S., Saturday and Sunday are days that many people don't work, so there may be fewer factories operating and fewer cars on the road. This is only speculation, but it's one possible path for further exploration. "
   ]
  },
  {
   "cell_type": "markdown",
   "metadata": {
    "id": "69aY2c-Y7bQT"
   },
   "source": [
    "### Monthly lightning strikes 2016–2018"
   ]
  },
  {
   "cell_type": "markdown",
   "metadata": {},
   "source": [
    "**Merging**:  \n",
    "\n",
    "Finally, we'll examine monthly lightning strike data from 2016–2018. We'll calculate the percentage of total lightning strikes for each year that occurred in a given month. We will then plot this data on a bar graph."
   ]
  },
  {
   "cell_type": "code",
   "execution_count": 16,
   "metadata": {
    "id": "UOhKa2F59YP9"
   },
   "outputs": [
    {
     "data": {
      "text/html": [
       "<div>\n",
       "<style scoped>\n",
       "    .dataframe tbody tr th:only-of-type {\n",
       "        vertical-align: middle;\n",
       "    }\n",
       "\n",
       "    .dataframe tbody tr th {\n",
       "        vertical-align: top;\n",
       "    }\n",
       "\n",
       "    .dataframe thead th {\n",
       "        text-align: right;\n",
       "    }\n",
       "</style>\n",
       "<table border=\"1\" class=\"dataframe\">\n",
       "  <thead>\n",
       "    <tr style=\"text-align: right;\">\n",
       "      <th></th>\n",
       "      <th>date</th>\n",
       "      <th>number_of_strikes</th>\n",
       "      <th>center_point_geom</th>\n",
       "    </tr>\n",
       "  </thead>\n",
       "  <tbody>\n",
       "    <tr>\n",
       "      <th>0</th>\n",
       "      <td>2016-01-04</td>\n",
       "      <td>55</td>\n",
       "      <td>POINT(-83.2 21.1)</td>\n",
       "    </tr>\n",
       "    <tr>\n",
       "      <th>1</th>\n",
       "      <td>2016-01-04</td>\n",
       "      <td>33</td>\n",
       "      <td>POINT(-83.1 21.1)</td>\n",
       "    </tr>\n",
       "    <tr>\n",
       "      <th>2</th>\n",
       "      <td>2016-01-05</td>\n",
       "      <td>46</td>\n",
       "      <td>POINT(-77.5 22.1)</td>\n",
       "    </tr>\n",
       "    <tr>\n",
       "      <th>3</th>\n",
       "      <td>2016-01-05</td>\n",
       "      <td>28</td>\n",
       "      <td>POINT(-76.8 22.3)</td>\n",
       "    </tr>\n",
       "    <tr>\n",
       "      <th>4</th>\n",
       "      <td>2016-01-05</td>\n",
       "      <td>28</td>\n",
       "      <td>POINT(-77 22.1)</td>\n",
       "    </tr>\n",
       "  </tbody>\n",
       "</table>\n",
       "</div>"
      ],
      "text/plain": [
       "         date  number_of_strikes  center_point_geom\n",
       "0  2016-01-04                 55  POINT(-83.2 21.1)\n",
       "1  2016-01-04                 33  POINT(-83.1 21.1)\n",
       "2  2016-01-05                 46  POINT(-77.5 22.1)\n",
       "3  2016-01-05                 28  POINT(-76.8 22.3)\n",
       "4  2016-01-05                 28    POINT(-77 22.1)"
      ]
     },
     "execution_count": 16,
     "metadata": {},
     "output_type": "execute_result"
    }
   ],
   "source": [
    "# Import 2016–2017 data\n",
    "df_2 = pd.read_csv('eda_structuring_with_python_dataset2.csv')\n",
    "df_2.head()"
   ]
  },
  {
   "cell_type": "markdown",
   "metadata": {},
   "source": [
    "The data is in the same format as the 2018 data when we first imported it above. Let's convert the `date` column to datetime."
   ]
  },
  {
   "cell_type": "code",
   "execution_count": 17,
   "metadata": {
    "colab": {
     "base_uri": "https://localhost:8080/"
    },
    "id": "7qQf2eTp9tR9",
    "outputId": "949250a0-4105-4625-ee50-4da164d964e2"
   },
   "outputs": [],
   "source": [
    "# Convert `date` column to datetime\n",
    "df_2['date'] = pd.to_datetime(df_2['date'])"
   ]
  },
  {
   "cell_type": "markdown",
   "metadata": {
    "id": "soitXcxq992y"
   },
   "source": [
    "Now we can combine the 2016–2017 dataframe with the 2018 dataframe. There are several functions that can do this. We'll use `concat()`. Remember that the 2018 data has two added columns, `week` and `weekday`. To simplify the results of our combined dataframe, we'll drop these added columns during the concatenation. Note that the following code doesn't permanently modify `df`. The columns drop only for this operation. You can learn more about the `concat()` function in the [concat() pandas documentation](https://pandas.pydata.org/docs/reference/api/pandas.concat.html)."
   ]
  },
  {
   "cell_type": "code",
   "execution_count": 18,
   "metadata": {
    "colab": {
     "base_uri": "https://localhost:8080/",
     "height": 206
    },
    "id": "-zBEzO3HD6Fr",
    "outputId": "68340bdf-4350-4bb9-c1c4-cedd2b80f1f2"
   },
   "outputs": [
    {
     "data": {
      "text/html": [
       "<div>\n",
       "<style scoped>\n",
       "    .dataframe tbody tr th:only-of-type {\n",
       "        vertical-align: middle;\n",
       "    }\n",
       "\n",
       "    .dataframe tbody tr th {\n",
       "        vertical-align: top;\n",
       "    }\n",
       "\n",
       "    .dataframe thead th {\n",
       "        text-align: right;\n",
       "    }\n",
       "</style>\n",
       "<table border=\"1\" class=\"dataframe\">\n",
       "  <thead>\n",
       "    <tr style=\"text-align: right;\">\n",
       "      <th></th>\n",
       "      <th>date</th>\n",
       "      <th>number_of_strikes</th>\n",
       "      <th>center_point_geom</th>\n",
       "    </tr>\n",
       "  </thead>\n",
       "  <tbody>\n",
       "    <tr>\n",
       "      <th>0</th>\n",
       "      <td>2018-01-03</td>\n",
       "      <td>194</td>\n",
       "      <td>POINT(-75 27)</td>\n",
       "    </tr>\n",
       "    <tr>\n",
       "      <th>1</th>\n",
       "      <td>2018-01-03</td>\n",
       "      <td>41</td>\n",
       "      <td>POINT(-78.4 29)</td>\n",
       "    </tr>\n",
       "    <tr>\n",
       "      <th>2</th>\n",
       "      <td>2018-01-03</td>\n",
       "      <td>33</td>\n",
       "      <td>POINT(-73.9 27)</td>\n",
       "    </tr>\n",
       "    <tr>\n",
       "      <th>3</th>\n",
       "      <td>2018-01-03</td>\n",
       "      <td>38</td>\n",
       "      <td>POINT(-73.8 27)</td>\n",
       "    </tr>\n",
       "    <tr>\n",
       "      <th>4</th>\n",
       "      <td>2018-01-03</td>\n",
       "      <td>92</td>\n",
       "      <td>POINT(-79 28)</td>\n",
       "    </tr>\n",
       "  </tbody>\n",
       "</table>\n",
       "</div>"
      ],
      "text/plain": [
       "        date  number_of_strikes center_point_geom\n",
       "0 2018-01-03                194     POINT(-75 27)\n",
       "1 2018-01-03                 41   POINT(-78.4 29)\n",
       "2 2018-01-03                 33   POINT(-73.9 27)\n",
       "3 2018-01-03                 38   POINT(-73.8 27)\n",
       "4 2018-01-03                 92     POINT(-79 28)"
      ]
     },
     "execution_count": 18,
     "metadata": {},
     "output_type": "execute_result"
    }
   ],
   "source": [
    "# Create new dataframe combining 2016–2017 data with 2018 data\n",
    "union_df = pd.concat([df.drop(['weekday','week'],axis=1), df_2], ignore_index=True)\n",
    "union_df.head()"
   ]
  },
  {
   "cell_type": "markdown",
   "metadata": {},
   "source": [
    "To help us with naming the bars of the bar plot, we'll create three new columns that isolate the year, month number, and month name. "
   ]
  },
  {
   "cell_type": "code",
   "execution_count": 19,
   "metadata": {
    "id": "cDJiVTeED6Fr"
   },
   "outputs": [
    {
     "data": {
      "text/html": [
       "<div>\n",
       "<style scoped>\n",
       "    .dataframe tbody tr th:only-of-type {\n",
       "        vertical-align: middle;\n",
       "    }\n",
       "\n",
       "    .dataframe tbody tr th {\n",
       "        vertical-align: top;\n",
       "    }\n",
       "\n",
       "    .dataframe thead th {\n",
       "        text-align: right;\n",
       "    }\n",
       "</style>\n",
       "<table border=\"1\" class=\"dataframe\">\n",
       "  <thead>\n",
       "    <tr style=\"text-align: right;\">\n",
       "      <th></th>\n",
       "      <th>date</th>\n",
       "      <th>number_of_strikes</th>\n",
       "      <th>center_point_geom</th>\n",
       "      <th>year</th>\n",
       "      <th>month</th>\n",
       "      <th>month_txt</th>\n",
       "    </tr>\n",
       "  </thead>\n",
       "  <tbody>\n",
       "    <tr>\n",
       "      <th>0</th>\n",
       "      <td>2018-01-03</td>\n",
       "      <td>194</td>\n",
       "      <td>POINT(-75 27)</td>\n",
       "      <td>2018</td>\n",
       "      <td>1</td>\n",
       "      <td>January</td>\n",
       "    </tr>\n",
       "    <tr>\n",
       "      <th>1</th>\n",
       "      <td>2018-01-03</td>\n",
       "      <td>41</td>\n",
       "      <td>POINT(-78.4 29)</td>\n",
       "      <td>2018</td>\n",
       "      <td>1</td>\n",
       "      <td>January</td>\n",
       "    </tr>\n",
       "    <tr>\n",
       "      <th>2</th>\n",
       "      <td>2018-01-03</td>\n",
       "      <td>33</td>\n",
       "      <td>POINT(-73.9 27)</td>\n",
       "      <td>2018</td>\n",
       "      <td>1</td>\n",
       "      <td>January</td>\n",
       "    </tr>\n",
       "    <tr>\n",
       "      <th>3</th>\n",
       "      <td>2018-01-03</td>\n",
       "      <td>38</td>\n",
       "      <td>POINT(-73.8 27)</td>\n",
       "      <td>2018</td>\n",
       "      <td>1</td>\n",
       "      <td>January</td>\n",
       "    </tr>\n",
       "    <tr>\n",
       "      <th>4</th>\n",
       "      <td>2018-01-03</td>\n",
       "      <td>92</td>\n",
       "      <td>POINT(-79 28)</td>\n",
       "      <td>2018</td>\n",
       "      <td>1</td>\n",
       "      <td>January</td>\n",
       "    </tr>\n",
       "  </tbody>\n",
       "</table>\n",
       "</div>"
      ],
      "text/plain": [
       "        date  number_of_strikes center_point_geom  year  month month_txt\n",
       "0 2018-01-03                194     POINT(-75 27)  2018      1   January\n",
       "1 2018-01-03                 41   POINT(-78.4 29)  2018      1   January\n",
       "2 2018-01-03                 33   POINT(-73.9 27)  2018      1   January\n",
       "3 2018-01-03                 38   POINT(-73.8 27)  2018      1   January\n",
       "4 2018-01-03                 92     POINT(-79 28)  2018      1   January"
      ]
     },
     "execution_count": 19,
     "metadata": {},
     "output_type": "execute_result"
    }
   ],
   "source": [
    "# add 3 new columns\n",
    "union_df['year'] = union_df.date.dt.year\n",
    "union_df['month'] = union_df.date.dt.month\n",
    "union_df['month_txt'] = union_df.date.dt.month_name()\n",
    "union_df.head()"
   ]
  },
  {
   "cell_type": "markdown",
   "metadata": {
    "id": "mZT3c0spV5lN"
   },
   "source": [
    "Let's check the overall lightning strike count for each year."
   ]
  },
  {
   "cell_type": "code",
   "execution_count": 20,
   "metadata": {
    "colab": {
     "base_uri": "https://localhost:8080/",
     "height": 175
    },
    "id": "LqDmxIpn_6GU",
    "outputId": "7ff3a1b5-22cf-4392-f653-ce8638255566"
   },
   "outputs": [
    {
     "data": {
      "text/html": [
       "<div>\n",
       "<style scoped>\n",
       "    .dataframe tbody tr th:only-of-type {\n",
       "        vertical-align: middle;\n",
       "    }\n",
       "\n",
       "    .dataframe tbody tr th {\n",
       "        vertical-align: top;\n",
       "    }\n",
       "\n",
       "    .dataframe thead th {\n",
       "        text-align: right;\n",
       "    }\n",
       "</style>\n",
       "<table border=\"1\" class=\"dataframe\">\n",
       "  <thead>\n",
       "    <tr style=\"text-align: right;\">\n",
       "      <th></th>\n",
       "      <th>number_of_strikes</th>\n",
       "    </tr>\n",
       "    <tr>\n",
       "      <th>year</th>\n",
       "      <th></th>\n",
       "    </tr>\n",
       "  </thead>\n",
       "  <tbody>\n",
       "    <tr>\n",
       "      <th>2016</th>\n",
       "      <td>41582229</td>\n",
       "    </tr>\n",
       "    <tr>\n",
       "      <th>2017</th>\n",
       "      <td>35095195</td>\n",
       "    </tr>\n",
       "    <tr>\n",
       "      <th>2018</th>\n",
       "      <td>44600989</td>\n",
       "    </tr>\n",
       "  </tbody>\n",
       "</table>\n",
       "</div>"
      ],
      "text/plain": [
       "      number_of_strikes\n",
       "year                   \n",
       "2016           41582229\n",
       "2017           35095195\n",
       "2018           44600989"
      ]
     },
     "execution_count": 20,
     "metadata": {},
     "output_type": "execute_result"
    }
   ],
   "source": [
    "# Calculate total number of strikes per year\n",
    "union_df[['year','number_of_strikes']].groupby(['year']).sum()"
   ]
  },
  {
   "cell_type": "markdown",
   "metadata": {
    "id": "kRhDor74W9t4",
    "outputId": "aad24de3-5594-4fc7-e45f-d5c9d5f2c6fd"
   },
   "source": [
    "Now we'll calculate the percentage of total lightning strikes for each year that occurred in a given month and assign the results to a new dataframe called `lightning_by_month`. "
   ]
  },
  {
   "cell_type": "code",
   "execution_count": 21,
   "metadata": {
    "colab": {
     "base_uri": "https://localhost:8080/",
     "height": 206
    },
    "id": "7F8D37DXD6Fs",
    "outputId": "aad24de3-5594-4fc7-e45f-d5c9d5f2c6fd"
   },
   "outputs": [
    {
     "data": {
      "text/html": [
       "<div>\n",
       "<style scoped>\n",
       "    .dataframe tbody tr th:only-of-type {\n",
       "        vertical-align: middle;\n",
       "    }\n",
       "\n",
       "    .dataframe tbody tr th {\n",
       "        vertical-align: top;\n",
       "    }\n",
       "\n",
       "    .dataframe thead th {\n",
       "        text-align: right;\n",
       "    }\n",
       "</style>\n",
       "<table border=\"1\" class=\"dataframe\">\n",
       "  <thead>\n",
       "    <tr style=\"text-align: right;\">\n",
       "      <th></th>\n",
       "      <th>month_txt</th>\n",
       "      <th>year</th>\n",
       "      <th>number_of_strikes</th>\n",
       "    </tr>\n",
       "  </thead>\n",
       "  <tbody>\n",
       "    <tr>\n",
       "      <th>0</th>\n",
       "      <td>April</td>\n",
       "      <td>2016</td>\n",
       "      <td>2636427</td>\n",
       "    </tr>\n",
       "    <tr>\n",
       "      <th>1</th>\n",
       "      <td>April</td>\n",
       "      <td>2017</td>\n",
       "      <td>3819075</td>\n",
       "    </tr>\n",
       "    <tr>\n",
       "      <th>2</th>\n",
       "      <td>April</td>\n",
       "      <td>2018</td>\n",
       "      <td>1524339</td>\n",
       "    </tr>\n",
       "    <tr>\n",
       "      <th>3</th>\n",
       "      <td>August</td>\n",
       "      <td>2016</td>\n",
       "      <td>7250442</td>\n",
       "    </tr>\n",
       "    <tr>\n",
       "      <th>4</th>\n",
       "      <td>August</td>\n",
       "      <td>2017</td>\n",
       "      <td>6021702</td>\n",
       "    </tr>\n",
       "  </tbody>\n",
       "</table>\n",
       "</div>"
      ],
      "text/plain": [
       "  month_txt  year  number_of_strikes\n",
       "0     April  2016            2636427\n",
       "1     April  2017            3819075\n",
       "2     April  2018            1524339\n",
       "3    August  2016            7250442\n",
       "4    August  2017            6021702"
      ]
     },
     "execution_count": 21,
     "metadata": {},
     "output_type": "execute_result"
    }
   ],
   "source": [
    "# Calculate total lightning strikes for each month of each year\n",
    "lightning_by_month = union_df.groupby(['month_txt','year']).agg(\n",
    "    number_of_strikes = pd.NamedAgg(column='number_of_strikes',aggfunc=sum)\n",
    "    ).reset_index()\n",
    "\n",
    "lightning_by_month.head()"
   ]
  },
  {
   "cell_type": "markdown",
   "metadata": {
    "id": "4N_5LhDSD6Fs"
   },
   "source": [
    "By the way, we can use the `agg()` function to calculate the same yearly totals we found before, with 2017 having fewer strikes than the other two years."
   ]
  },
  {
   "cell_type": "code",
   "execution_count": 22,
   "metadata": {
    "colab": {
     "base_uri": "https://localhost:8080/",
     "height": 143
    },
    "id": "wtBWqlJP7dos",
    "outputId": "2453b84d-83c8-4396-9275-72217cc284f7"
   },
   "outputs": [
    {
     "data": {
      "text/html": [
       "<div>\n",
       "<style scoped>\n",
       "    .dataframe tbody tr th:only-of-type {\n",
       "        vertical-align: middle;\n",
       "    }\n",
       "\n",
       "    .dataframe tbody tr th {\n",
       "        vertical-align: top;\n",
       "    }\n",
       "\n",
       "    .dataframe thead th {\n",
       "        text-align: right;\n",
       "    }\n",
       "</style>\n",
       "<table border=\"1\" class=\"dataframe\">\n",
       "  <thead>\n",
       "    <tr style=\"text-align: right;\">\n",
       "      <th></th>\n",
       "      <th>year</th>\n",
       "      <th>year_strikes</th>\n",
       "    </tr>\n",
       "  </thead>\n",
       "  <tbody>\n",
       "    <tr>\n",
       "      <th>0</th>\n",
       "      <td>2016</td>\n",
       "      <td>41582229</td>\n",
       "    </tr>\n",
       "    <tr>\n",
       "      <th>1</th>\n",
       "      <td>2017</td>\n",
       "      <td>35095195</td>\n",
       "    </tr>\n",
       "    <tr>\n",
       "      <th>2</th>\n",
       "      <td>2018</td>\n",
       "      <td>44600989</td>\n",
       "    </tr>\n",
       "  </tbody>\n",
       "</table>\n",
       "</div>"
      ],
      "text/plain": [
       "   year  year_strikes\n",
       "0  2016      41582229\n",
       "1  2017      35095195\n",
       "2  2018      44600989"
      ]
     },
     "execution_count": 22,
     "metadata": {},
     "output_type": "execute_result"
    }
   ],
   "source": [
    "# Calculate total lightning strikes for each year\n",
    "lightning_by_year = union_df.groupby(['year']).agg(\n",
    "  year_strikes = pd.NamedAgg(column='number_of_strikes',aggfunc=sum)\n",
    ").reset_index()\n",
    "\n",
    "lightning_by_year.head()"
   ]
  },
  {
   "cell_type": "markdown",
   "metadata": {
    "id": "Dox4sADKAYqH",
    "outputId": "d22b959a-026a-44af-bb9a-0ebedb4017e0"
   },
   "source": [
    "Back to our bar plot... We need to use the monthly totals to calculate percentages. For each month, we'll need the monthly total strike count and the total strike count for that year. Let's create another dataframe called `percentage_lightning` that adds a new column called `year_strikes`, which represents the total number of strikes for each year. We can do this using the `merge()` function. We'll merge the `lightning_by_month` dataframe with the `lightning_by_year` dataframe, specifying to merge on the `year` column. This means that wherever the `year` columns contain the same value in both dataframes, a row is created in our new dataframe with all the other columns from both dataframes being merged. To learn more about this function, refer to the [merge() pandas documentation](https://pandas.pydata.org/docs/reference/api/pandas.merge.html).\n"
   ]
  },
  {
   "cell_type": "code",
   "execution_count": 23,
   "metadata": {
    "colab": {
     "base_uri": "https://localhost:8080/",
     "height": 206
    },
    "id": "IB1y2eIQD6Ft",
    "outputId": "d22b959a-026a-44af-bb9a-0ebedb4017e0",
    "scrolled": false
   },
   "outputs": [
    {
     "data": {
      "text/html": [
       "<div>\n",
       "<style scoped>\n",
       "    .dataframe tbody tr th:only-of-type {\n",
       "        vertical-align: middle;\n",
       "    }\n",
       "\n",
       "    .dataframe tbody tr th {\n",
       "        vertical-align: top;\n",
       "    }\n",
       "\n",
       "    .dataframe thead th {\n",
       "        text-align: right;\n",
       "    }\n",
       "</style>\n",
       "<table border=\"1\" class=\"dataframe\">\n",
       "  <thead>\n",
       "    <tr style=\"text-align: right;\">\n",
       "      <th></th>\n",
       "      <th>month_txt</th>\n",
       "      <th>year</th>\n",
       "      <th>number_of_strikes</th>\n",
       "      <th>year_strikes</th>\n",
       "    </tr>\n",
       "  </thead>\n",
       "  <tbody>\n",
       "    <tr>\n",
       "      <th>0</th>\n",
       "      <td>April</td>\n",
       "      <td>2016</td>\n",
       "      <td>2636427</td>\n",
       "      <td>41582229</td>\n",
       "    </tr>\n",
       "    <tr>\n",
       "      <th>1</th>\n",
       "      <td>August</td>\n",
       "      <td>2016</td>\n",
       "      <td>7250442</td>\n",
       "      <td>41582229</td>\n",
       "    </tr>\n",
       "    <tr>\n",
       "      <th>2</th>\n",
       "      <td>December</td>\n",
       "      <td>2016</td>\n",
       "      <td>316450</td>\n",
       "      <td>41582229</td>\n",
       "    </tr>\n",
       "    <tr>\n",
       "      <th>3</th>\n",
       "      <td>February</td>\n",
       "      <td>2016</td>\n",
       "      <td>312676</td>\n",
       "      <td>41582229</td>\n",
       "    </tr>\n",
       "    <tr>\n",
       "      <th>4</th>\n",
       "      <td>January</td>\n",
       "      <td>2016</td>\n",
       "      <td>313595</td>\n",
       "      <td>41582229</td>\n",
       "    </tr>\n",
       "  </tbody>\n",
       "</table>\n",
       "</div>"
      ],
      "text/plain": [
       "  month_txt  year  number_of_strikes  year_strikes\n",
       "0     April  2016            2636427      41582229\n",
       "1    August  2016            7250442      41582229\n",
       "2  December  2016             316450      41582229\n",
       "3  February  2016             312676      41582229\n",
       "4   January  2016             313595      41582229"
      ]
     },
     "execution_count": 23,
     "metadata": {},
     "output_type": "execute_result"
    }
   ],
   "source": [
    "# Combine `lightning_by_month` and `lightning_by_year` dataframes into single dataframe\n",
    "percentage_lightning = lightning_by_month.merge(lightning_by_year,on='year')\n",
    "percentage_lightning.head()"
   ]
  },
  {
   "cell_type": "markdown",
   "metadata": {},
   "source": [
    "Now we'll create a new column in our new dataframe that represents the percentage of total lightning strikes for each year that occurred during each month. We do this by dividing the `number_of_strikes` column by the `year_strikes` column and multiplying the result by 100."
   ]
  },
  {
   "cell_type": "code",
   "execution_count": 24,
   "metadata": {},
   "outputs": [
    {
     "data": {
      "text/html": [
       "<div>\n",
       "<style scoped>\n",
       "    .dataframe tbody tr th:only-of-type {\n",
       "        vertical-align: middle;\n",
       "    }\n",
       "\n",
       "    .dataframe tbody tr th {\n",
       "        vertical-align: top;\n",
       "    }\n",
       "\n",
       "    .dataframe thead th {\n",
       "        text-align: right;\n",
       "    }\n",
       "</style>\n",
       "<table border=\"1\" class=\"dataframe\">\n",
       "  <thead>\n",
       "    <tr style=\"text-align: right;\">\n",
       "      <th></th>\n",
       "      <th>month_txt</th>\n",
       "      <th>year</th>\n",
       "      <th>number_of_strikes</th>\n",
       "      <th>year_strikes</th>\n",
       "      <th>percentage_lightning_per_month</th>\n",
       "    </tr>\n",
       "  </thead>\n",
       "  <tbody>\n",
       "    <tr>\n",
       "      <th>0</th>\n",
       "      <td>April</td>\n",
       "      <td>2016</td>\n",
       "      <td>2636427</td>\n",
       "      <td>41582229</td>\n",
       "      <td>6.340273</td>\n",
       "    </tr>\n",
       "    <tr>\n",
       "      <th>1</th>\n",
       "      <td>August</td>\n",
       "      <td>2016</td>\n",
       "      <td>7250442</td>\n",
       "      <td>41582229</td>\n",
       "      <td>17.436396</td>\n",
       "    </tr>\n",
       "    <tr>\n",
       "      <th>2</th>\n",
       "      <td>December</td>\n",
       "      <td>2016</td>\n",
       "      <td>316450</td>\n",
       "      <td>41582229</td>\n",
       "      <td>0.761022</td>\n",
       "    </tr>\n",
       "    <tr>\n",
       "      <th>3</th>\n",
       "      <td>February</td>\n",
       "      <td>2016</td>\n",
       "      <td>312676</td>\n",
       "      <td>41582229</td>\n",
       "      <td>0.751946</td>\n",
       "    </tr>\n",
       "    <tr>\n",
       "      <th>4</th>\n",
       "      <td>January</td>\n",
       "      <td>2016</td>\n",
       "      <td>313595</td>\n",
       "      <td>41582229</td>\n",
       "      <td>0.754156</td>\n",
       "    </tr>\n",
       "  </tbody>\n",
       "</table>\n",
       "</div>"
      ],
      "text/plain": [
       "  month_txt  year  number_of_strikes  year_strikes  \\\n",
       "0     April  2016            2636427      41582229   \n",
       "1    August  2016            7250442      41582229   \n",
       "2  December  2016             316450      41582229   \n",
       "3  February  2016             312676      41582229   \n",
       "4   January  2016             313595      41582229   \n",
       "\n",
       "   percentage_lightning_per_month  \n",
       "0                        6.340273  \n",
       "1                       17.436396  \n",
       "2                        0.761022  \n",
       "3                        0.751946  \n",
       "4                        0.754156  "
      ]
     },
     "execution_count": 24,
     "metadata": {},
     "output_type": "execute_result"
    }
   ],
   "source": [
    "# Create new `percentage_lightning_per_month` column\n",
    "percentage_lightning['percentage_lightning_per_month'] = (percentage_lightning.number_of_strikes/\n",
    "                                                          percentage_lightning.year_strikes * 100.0)\n",
    "percentage_lightning.head()"
   ]
  },
  {
   "cell_type": "markdown",
   "metadata": {
    "id": "HUNVriARD6Ft"
   },
   "source": [
    "Now we can plot the percentages by month in a bar graph! "
   ]
  },
  {
   "cell_type": "code",
   "execution_count": 25,
   "metadata": {
    "id": "NlHwP5a8AqmF"
   },
   "outputs": [
    {
     "data": {
      "image/png": "[encoded data removed]",
      "text/plain": [
       "<Figure size 1000x600 with 1 Axes>"
      ]
     },
     "metadata": {},
     "output_type": "display_data"
    }
   ],
   "source": [
    "plt.figure(figsize=(10,6));\n",
    "\n",
    "month_order = ['January', 'February', 'March', 'April', 'May', 'June', \n",
    "               'July', 'August', 'September', 'October', 'November', 'December']\n",
    "\n",
    "sns.barplot(\n",
    "    data = percentage_lightning,\n",
    "    x = 'month_txt',\n",
    "    y = 'percentage_lightning_per_month',\n",
    "    hue = 'year',\n",
    "    order = month_order );\n",
    "plt.xlabel(\"Month\");\n",
    "plt.ylabel(\"% of lightning strikes\");\n",
    "plt.title(\"% of lightning strikes each Month (2016-2018)\");"
   ]
  },
  {
   "cell_type": "markdown",
   "metadata": {
    "id": "nWnlY5i9D6Fu",
    "outputId": "328c00ad-f2b7-4fe7-ed82-1245e60449bf"
   },
   "source": [
    "For all three years, there is a clear pattern over the course of each year. One month stands out. More than 1/3 of the lightning in 2018 happened in August. "
   ]
  }
 ],
 "metadata": {
  "colab": {
   "collapsed_sections": [],
   "provenance": [
    {
     "file_id": "1xXQxtXSGgiy1Hf3EAZbKQ6OUN00t7y8F",
     "timestamp": 1662732959704
    }
   ]
  },
  "kernelspec": {
   "display_name": "Python 3 (ipykernel)",
   "language": "python",
   "name": "python3"
  },
  "language_info": {
   "codemirror_mode": {
    "name": "ipython",
    "version": 3
   },
   "file_extension": ".py",
   "mimetype": "text/x-python",
   "name": "python",
   "nbconvert_exporter": "python",
   "pygments_lexer": "ipython3",
   "version": "3.10.9"
  }
 },
 "nbformat": 4,
 "nbformat_minor": 1
}
